{
 "cells": [
  {
   "cell_type": "markdown",
   "metadata": {},
   "source": [
    "## Create environment \n",
    "- The code uses the f-strings available after python 3.6. To install python 3.7 run the code below in the terminal, then refresh this page (then Kernel -> Change kernel -> py37)\n",
    "`\n",
    "conda create --name py37 python=3.7 pandas numpy nltk matplotlib seaborn\n",
    "source activate py37\n",
    "conda install nb_conda\n",
    "`\n",
    "\n"
   ]
  },
  {
   "cell_type": "code",
   "execution_count": 1,
   "metadata": {},
   "outputs": [
    {
     "name": "stdout",
     "output_type": "stream",
     "text": [
      "mkdir: cannot create directory ‘data_cleaned’: File exists\r\n"
     ]
    }
   ],
   "source": [
    "import os\n",
    "import pandas as pd\n",
    "import json\n",
    "pd.set_option(\"display.max_columns\",30)\n",
    "\n",
    "!mkdir data_cleaned"
   ]
  },
  {
   "cell_type": "code",
   "execution_count": 2,
   "metadata": {},
   "outputs": [],
   "source": [
    "cols = [\"language\",\"education\",\"age\",\"ideology\",\"technical_issues\",\"confusion\",\"engagement\",\"difficulty\"] "
   ]
  },
  {
   "cell_type": "markdown",
   "metadata": {},
   "source": [
    "# General functions"
   ]
  },
  {
   "cell_type": "code",
   "execution_count": 3,
   "metadata": {},
   "outputs": [],
   "source": [
    "def parse_response(response):\n",
    "    \"\"\"\n",
    "    Parses the questionnaire\n",
    "    \"\"\"\n",
    "    if isinstance(response,float):\n",
    "        return [\"\"]*8\n",
    "    \n",
    "    d = json.loads(response)  \n",
    "\n",
    "    return  [d.get(_) for _ in cols]\n"
   ]
  },
  {
   "cell_type": "code",
   "execution_count": 4,
   "metadata": {},
   "outputs": [],
   "source": [
    "def get_participants(exp):\n",
    "    \"\"\"\n",
    "    Get the info on participants merging the node (tells the layer) and the questionnaire\n",
    "    \"\"\"\n",
    "    n = pd.read_csv(f\"data/{exp}/data/node.csv\",usecols=[\"id\",\"property2\",\"participant_id\"])\n",
    "    n.columns = [\"destination_id\",\"layer_n\",\"participant_id\"]\n",
    "    q = pd.read_csv(f\"data/{exp}/data/question.csv\",usecols=[\"participant_id\",\"response\"])\n",
    "    participants = pd.merge(n,q,how=\"outer\")\n",
    "\n",
    "    cols = [\"language\",\"education\",\"age\",\"ideology\",\"technical_issues\",\"confusion\",\"engagement\",\"difficulty\"] \n",
    "\n",
    "    parsed_response = participants[\"response\"].apply(parse_response)\n",
    "    \n",
    "    parsed_response = pd.DataFrame(zip(*parsed_response), index=range(8)).T\n",
    "    participants[cols] = parsed_response\n",
    "    del participants[\"response\"]\n",
    "    \n",
    "    \n",
    "    return participants\n",
    "\n",
    "def create_network(exp):\n",
    "    \"\"\"\n",
    "    Format the network adding the stories\n",
    "    \"\"\"\n",
    "    stories = pd.read_csv(f\"data/{exp}/data/info.csv\",usecols=[\"creation_time\",\"id\",\"origin_id\",\"contents\",\"failed\"])\n",
    "    stories = stories.loc[stories[\"failed\"] == \"f\"]\n",
    "    id2story = stories.set_index(\"origin_id\")[\"contents\"].drop_duplicates().to_dict()\n",
    "\n",
    "    network = pd.read_csv(f\"data/{exp}/data/vector.csv\")\n",
    "    data = network.groupby(\"destination_id\")[\"origin_id\"].apply(lambda x: list(x)).reset_index()\n",
    "    data[\"story1\"] = data[\"origin_id\"].str[0].map(id2story)\n",
    "    data[\"story2\"] = data[\"origin_id\"].str[-1].map(id2story)\n",
    "    data[\"story_merged\"] = data[\"destination_id\"].map(id2story)\n",
    "    \n",
    "    return data.dropna(subset=[\"story_merged\"])\n"
   ]
  },
  {
   "cell_type": "markdown",
   "metadata": {},
   "source": [
    "# Clean the data"
   ]
  },
  {
   "cell_type": "code",
   "execution_count": 5,
   "metadata": {},
   "outputs": [],
   "source": [
    "exps = os.listdir(\"data\")\n",
    "\n",
    "for exp in sorted(exps):\n",
    "    \n",
    "    #Questions and layer\n",
    "    participants = get_participants(exp)\n",
    "    #Network and stories\n",
    "    network = create_network(exp)\n",
    "    \n",
    "    #Save\n",
    "    data =pd.merge(network,participants)\n",
    "    \n",
    "    data.to_csv(f\"data_cleaned/{exp}.csv\",sep=\"\\t\",index=None)\n",
    "\n"
   ]
  },
  {
   "cell_type": "code",
   "execution_count": 6,
   "metadata": {},
   "outputs": [
    {
     "data": {
      "text/html": [
       "<div>\n",
       "<style scoped>\n",
       "    .dataframe tbody tr th:only-of-type {\n",
       "        vertical-align: middle;\n",
       "    }\n",
       "\n",
       "    .dataframe tbody tr th {\n",
       "        vertical-align: top;\n",
       "    }\n",
       "\n",
       "    .dataframe thead th {\n",
       "        text-align: right;\n",
       "    }\n",
       "</style>\n",
       "<table border=\"1\" class=\"dataframe\">\n",
       "  <thead>\n",
       "    <tr style=\"text-align: right;\">\n",
       "      <th></th>\n",
       "      <th>destination_id</th>\n",
       "      <th>origin_id</th>\n",
       "      <th>story1</th>\n",
       "      <th>story2</th>\n",
       "      <th>story_merged</th>\n",
       "      <th>layer_n</th>\n",
       "      <th>participant_id</th>\n",
       "    </tr>\n",
       "  </thead>\n",
       "  <tbody>\n",
       "    <tr>\n",
       "      <th>0</th>\n",
       "      <td>2</td>\n",
       "      <td>[1]</td>\n",
       "      <td>Through history, most people didn't die of can...</td>\n",
       "      <td>Through history, most people didn't die of can...</td>\n",
       "      <td>Throughout time, we have used one form or anot...</td>\n",
       "      <td>0.0</td>\n",
       "      <td>1.0</td>\n",
       "    </tr>\n",
       "    <tr>\n",
       "      <th>1</th>\n",
       "      <td>3</td>\n",
       "      <td>[2]</td>\n",
       "      <td>Throughout time, we have used one form or anot...</td>\n",
       "      <td>Throughout time, we have used one form or anot...</td>\n",
       "      <td>Superbugs are a very real problems generated f...</td>\n",
       "      <td>1.0</td>\n",
       "      <td>2.0</td>\n",
       "    </tr>\n",
       "    <tr>\n",
       "      <th>2</th>\n",
       "      <td>6</td>\n",
       "      <td>[3]</td>\n",
       "      <td>Superbugs are a very real problems generated f...</td>\n",
       "      <td>Superbugs are a very real problems generated f...</td>\n",
       "      <td>superbugs are caused by resistance to antibiot...</td>\n",
       "      <td>2.0</td>\n",
       "      <td>5.0</td>\n",
       "    </tr>\n",
       "    <tr>\n",
       "      <th>3</th>\n",
       "      <td>7</td>\n",
       "      <td>[6]</td>\n",
       "      <td>superbugs are caused by resistance to antibiot...</td>\n",
       "      <td>superbugs are caused by resistance to antibiot...</td>\n",
       "      <td>Superbugs are when bacteria becomes resistant ...</td>\n",
       "      <td>3.0</td>\n",
       "      <td>6.0</td>\n",
       "    </tr>\n",
       "    <tr>\n",
       "      <th>4</th>\n",
       "      <td>8</td>\n",
       "      <td>[7]</td>\n",
       "      <td>Superbugs are when bacteria becomes resistant ...</td>\n",
       "      <td>Superbugs are when bacteria becomes resistant ...</td>\n",
       "      <td>Superbugs are bacteria that grow resistant to ...</td>\n",
       "      <td>4.0</td>\n",
       "      <td>7.0</td>\n",
       "    </tr>\n",
       "  </tbody>\n",
       "</table>\n",
       "</div>"
      ],
      "text/plain": [
       "   destination_id origin_id  \\\n",
       "0               2       [1]   \n",
       "1               3       [2]   \n",
       "2               6       [3]   \n",
       "3               7       [6]   \n",
       "4               8       [7]   \n",
       "\n",
       "                                              story1  \\\n",
       "0  Through history, most people didn't die of can...   \n",
       "1  Throughout time, we have used one form or anot...   \n",
       "2  Superbugs are a very real problems generated f...   \n",
       "3  superbugs are caused by resistance to antibiot...   \n",
       "4  Superbugs are when bacteria becomes resistant ...   \n",
       "\n",
       "                                              story2  \\\n",
       "0  Through history, most people didn't die of can...   \n",
       "1  Throughout time, we have used one form or anot...   \n",
       "2  Superbugs are a very real problems generated f...   \n",
       "3  superbugs are caused by resistance to antibiot...   \n",
       "4  Superbugs are when bacteria becomes resistant ...   \n",
       "\n",
       "                                        story_merged  layer_n  participant_id  \n",
       "0  Throughout time, we have used one form or anot...      0.0             1.0  \n",
       "1  Superbugs are a very real problems generated f...      1.0             2.0  \n",
       "2  superbugs are caused by resistance to antibiot...      2.0             5.0  \n",
       "3  Superbugs are when bacteria becomes resistant ...      3.0             6.0  \n",
       "4  Superbugs are bacteria that grow resistant to ...      4.0             7.0  "
      ]
     },
     "execution_count": 6,
     "metadata": {},
     "output_type": "execute_result"
    }
   ],
   "source": [
    "data.loc[:,list(network.columns)+[\"layer_n\",\"participant_id\"]]"
   ]
  },
  {
   "cell_type": "code",
   "execution_count": null,
   "metadata": {},
   "outputs": [],
   "source": []
  }
 ],
 "metadata": {
  "anaconda-cloud": {},
  "kernelspec": {
   "display_name": "Python [conda env:py37]",
   "language": "python",
   "name": "conda-env-py37-py"
  },
  "language_info": {
   "codemirror_mode": {
    "name": "ipython",
    "version": 3
   },
   "file_extension": ".py",
   "mimetype": "text/x-python",
   "name": "python",
   "nbconvert_exporter": "python",
   "pygments_lexer": "ipython3",
   "version": "3.7.3"
  }
 },
 "nbformat": 4,
 "nbformat_minor": 2
}
