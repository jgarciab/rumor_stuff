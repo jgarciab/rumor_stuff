{
 "cells": [
  {
   "cell_type": "code",
   "execution_count": 1,
   "metadata": {
    "collapsed": true
   },
   "outputs": [],
   "source": [
    "import json"
   ]
  },
  {
   "cell_type": "code",
   "execution_count": 2,
   "metadata": {
    "collapsed": false
   },
   "outputs": [],
   "source": [
    "d = json.loads(open(\"train-v2.0.json\").read())"
   ]
  },
  {
   "cell_type": "code",
   "execution_count": 5,
   "metadata": {
    "collapsed": true
   },
   "outputs": [
    {
     "name": "stdout",
     "output_type": "stream",
     "text": [
      "Beyoncé\n",
      "Frédéric_Chopin\n",
      "Sino-Tibetan_relations_during_the_Ming_dynasty\n",
      "IPod\n",
      "The_Legend_of_Zelda:_Twilight_Princess\n",
      "Spectre_(2015_film)\n",
      "2008_Sichuan_earthquake\n",
      "New_York_City\n",
      "To_Kill_a_Mockingbird\n",
      "Solar_energy\n",
      "Kanye_West\n",
      "Buddhism\n",
      "American_Idol\n",
      "Dog\n",
      "2008_Summer_Olympics_torch_relay\n",
      "Genome\n",
      "Comprehensive_school\n",
      "Republic_of_the_Congo\n",
      "Prime_minister\n",
      "Institute_of_technology\n",
      "Wayback_Machine\n",
      "Dutch_Republic\n",
      "Symbiosis\n",
      "Canadian_Armed_Forces\n",
      "Cardinal_(Catholicism)\n",
      "Iranian_languages\n",
      "Lighting\n",
      "Separation_of_powers_under_the_United_States_Constitution\n",
      "Architecture\n",
      "Human_Development_Index\n",
      "Southern_Europe\n",
      "BBC_Television\n",
      "Arnold_Schwarzenegger\n",
      "Plymouth\n",
      "Heresy\n",
      "Warsaw_Pact\n",
      "Materialism\n",
      "Christian\n",
      "Sony_Music_Entertainment\n",
      "Oklahoma_City\n",
      "Hunter-gatherer\n",
      "United_Nations_Population_Fund\n",
      "Russian_Soviet_Federative_Socialist_Republic\n",
      "Alexander_Graham_Bell\n",
      "Pub\n",
      "Internet_service_provider\n",
      "Comics\n",
      "Saint_Helena\n",
      "Aspirated_consonant\n",
      "Hydrogen\n",
      "Space_Race\n",
      "Web_browser\n",
      "BeiDou_Navigation_Satellite_System\n",
      "Canon_law\n",
      "Communications_in_Somalia\n",
      "Catalan_language\n",
      "Boston\n",
      "Universal_Studios\n",
      "Estonian_language\n",
      "Paper\n",
      "Adult_contemporary_music\n",
      "Daylight_saving_time\n",
      "Royal_Institute_of_British_Architects\n",
      "National_Archives_and_Records_Administration\n",
      "Tristan_da_Cunha\n",
      "University_of_Kansas\n",
      "Nanjing\n",
      "Arena_Football_League\n",
      "Dialect\n",
      "Bern\n",
      "Westminster_Abbey\n",
      "Political_corruption\n",
      "Classical_music\n",
      "Slavs\n",
      "Southampton\n",
      "Treaty\n",
      "Josip_Broz_Tito\n",
      "Marshall_Islands\n",
      "Szlachta\n",
      "Virgil\n",
      "Alps\n",
      "Gene\n",
      "Guinea-Bissau\n",
      "List_of_numbered_streets_in_Manhattan\n",
      "Brain\n",
      "Near_East\n",
      "Zhejiang\n",
      "Ministry_of_Defence_(United_Kingdom)\n",
      "High-definition_television\n",
      "Wood\n",
      "Somalis\n",
      "Middle_Ages\n",
      "Phonology\n",
      "Computer\n",
      "Black_people\n",
      "The_Times\n",
      "New_Delhi\n",
      "Bird_migration\n",
      "Atlantic_City,_New_Jersey\n",
      "Immunology\n"
     ]
    }
   ],
   "source": [
    "count = 0\n",
    "for i in d[\"data\"]:\n",
    "    print(i[\"title\"])\n",
    "    count += 1\n",
    "    if count == 100:\n",
    "        break\n",
    "    \n",
    "    "
   ]
  },
  {
   "cell_type": "code",
   "execution_count": 7,
   "metadata": {
    "collapsed": false
   },
   "outputs": [
    {
     "name": "stdout",
     "output_type": "stream",
     "text": [
      "Comics are a medium used to express ideas by images, often combined with text or other visual information. Comics frequently takes the form of juxtaposed sequences of panels of images. Often textual devices such as speech balloons, captions, and onomatopoeia indicate dialogue, narration, sound effects, or other information. Size and arrangement of panels contribute to narrative pacing. Cartooning and similar forms of illustration are the most common image-making means in comics; fumetti is a form which uses photographic images. Common forms of comics include comic strips, editorial and gag cartoons, and comic books. Since the late 20th century, bound volumes such as graphic novels, comics albums, and tankōbon have become increasingly common, and online webcomics have proliferated in the 21st century.\n",
      "\n",
      "The history of comics has followed different paths in different cultures. Scholars have posited a pre-history as far back as the Lascaux cave paintings. By the mid-20th century, comics flourished particularly in the United States, western Europe (especially in France and Belgium), and Japan. The history of European comics is often traced to Rodolphe Töpffer's cartoon strips of the 1830s, and became popular following the success in the 1930s of strips and books such as The Adventures of Tintin. American comics emerged as a mass medium in the early 20th century with the advent of newspaper comic strips; magazine-style comic books followed in the 1930s, in which the superhero genre became prominent after Superman appeared in 1938. Histories of Japanese comics and cartooning (manga) propose origins as early as the 12th century. Modern comic strips emerged in Japan in the early 20th century, and the output of comics magazines and books rapidly expanded in the post-World War II era with the popularity of cartoonists such as Osamu Tezuka. Comics has had a lowbrow reputation for much of its history, but towards the end of the 20th century began to find greater acceptance with the public and in academia.\n",
      "\n",
      "The English term comics is used as a singular noun when it refers to the medium and a plural when referring to particular instances, such as individual strips or comic books. Though the term derives from the humorous (or comic) work that predominated in early American newspaper comic strips, it has become standard also for non-humorous works. It is common in English to refer to the comics of different cultures by the terms used in their original languages, such as manga for Japanese comics, or bandes dessinées for French-language comics. There is no consensus amongst theorists and historians on a definition of comics; some emphasize the combination of images and text, some sequentiality or other image relations, and others historical aspects such as mass reproduction or the use of recurring characters. The increasing cross-pollination of concepts from different comics cultures and eras has further made definition difficult.\n",
      "\n",
      "The European, American, and Japanese comics traditions have followed different paths. Europeans have seen their tradition as beginning with the Swiss Rodolphe Töpffer from as early as 1827 and Americans have seen the origin of theirs in Richard F. Outcault's 1890s newspaper strip The Yellow Kid, though many Americans have come to recognize Töpffer's precedence. Japan had a long prehistory of satirical cartoons and comics leading up to the World War II era. The ukiyo-e artist Hokusai popularized the Japanese term for comics and cartooning, manga, in the early 19th century. In the post-war era modern Japanese comics began to flourish when Osamu Tezuka produced a prolific body of work. Towards the close of the 20th century, these three traditions converged in a trend towards book-length comics: the comics album in Europe, the tankōbon[a] in Japan, and the graphic novel in the English-speaking countries.\n",
      "\n",
      "Outside of these genealogies, comics theorists and historians have seen precedents for comics in the Lascaux cave paintings in France (some of which appear to be chronological sequences of images), Egyptian hieroglyphs, Trajan's Column in Rome, the 11th-century Norman Bayeux Tapestry, the 1370 bois Protat woodcut, the 15th-century Ars moriendi and block books, Michelangelo's The Last Judgment in the Sistine Chapel, and William Hogarth's 17th-century sequential engravings, amongst others.[b]\n",
      "\n",
      "Illustrated humour periodicals were popular in 19th-century Britain, the earliest of which was the short-lived The Glasgow Looking Glass in 1825. The most popular was Punch, which popularized the term cartoon for its humorous caricatures. On occasion the cartoons in these magazines appeared in sequences; the character Ally Sloper featured in the earliest serialized comic strip when the character began to feature in its own weekly magazine in 1884.\n",
      "\n",
      "American comics developed out of such magazines as Puck, Judge, and Life. The success of illustrated humour supplements in the New York World and later the New York American, particularly Outcault's The Yellow Kid, led to the development of newspaper comic strips. Early Sunday strips were full-page and often in colour. Between 1896 and 1901 cartoonists experimented with sequentiality, movement, and speech balloons.\n",
      "\n",
      "Shorter, black-and-white daily strips began to appear early in the 20th century, and became established in newspapers after the success in 1907 of Bud Fisher's Mutt and Jeff. Humour strips predominated at first, and in the 1920s and 1930s strips with continuing stories in genres such as adventure and drama also became popular. Thin periodicals called comic books appeared in the 1930s, at first reprinting newspaper comic strips; by the end of the decade, original content began to dominate. The success in 1938 of Action Comics and its lead hero Superman marked the beginning of the Golden Age of Comic Books, in which the superhero genre was prominent.\n",
      "\n",
      "The popularity of superhero comic books declined following World War II, while comic book sales continued to increase as other genres proliferated, such as romance, westerns, crime, horror, and humour. Following a sales peak in the early 1950s, the content of comic books (particularly crime and horror) was subjected to scrutiny from parent groups and government agencies, which culminated in Senate hearings that led to the establishment of the Comics Code Authority self-censoring body. The Code has been blamed for stunting the growth of American comics and maintaining its low status in American society for much of the remainder of the century. Superheroes re-established themselves as the most prominent comic book genre by the early 1960s. Underground comix challenged the Code and readers with adult, countercultural content in the late 1960s and early 1970s. The underground gave birth to the alternative comics movement in the 1980s and its mature, often experimental content in non-superhero genres.\n",
      "\n",
      "From the 1980s, mainstream sensibilities were reasserted and serialization became less common as the number of comics magazines decreased and many comics began to be published directly as albums. Smaller publishers such as L'Association that published longer works in non-traditional formats by auteur-istic creators also became common. Since the 1990s, mergers resulted in fewer large publishers, while smaller publishers proliferated. Sales overall continued to grow despite the trend towards a shrinking print market.\n",
      "\n"
     ]
    }
   ],
   "source": [
    "count = 0\n",
    "for i in d[\"data\"]:\n",
    "    if i[\"title\"] == \"Comics\":\n",
    "        for j in i[\"paragraphs\"]:\n",
    "            print(j[\"context\"])\n",
    "            print()\n",
    "            count += 1\n",
    "            if count >= 10:\n",
    "                break\n",
    "    if count >= 10:\n",
    "        break"
   ]
  }
 ],
 "metadata": {
  "anaconda-cloud": {},
  "kernelspec": {
   "display_name": "Python [conda env:anaconda3]",
   "language": "python",
   "name": "conda-env-anaconda3-py"
  },
  "language_info": {
   "codemirror_mode": {
    "name": "ipython",
    "version": 3
   },
   "file_extension": ".py",
   "mimetype": "text/x-python",
   "name": "python",
   "nbconvert_exporter": "python",
   "pygments_lexer": "ipython3",
   "version": "3.5.2"
  }
 },
 "nbformat": 4,
 "nbformat_minor": 1
}
